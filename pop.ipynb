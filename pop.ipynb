{
 "cells": [
  {
   "cell_type": "code",
   "execution_count": 3,
   "metadata": {},
   "outputs": [],
   "source": [
    "from cassandra.cluster import Cluster\n",
    "from cassandra.auth import PlainTextAuthProvider\n",
    "\n",
    "cloud_config= {\n",
    "        'secure_connect_bundle': 'E:\\ml project\\secure-connect-energy-efficient.zip'\n",
    "}\n",
    "auth_provider = PlainTextAuthProvider('qfXJZoknpszuzBCIgqRjWIwf', 'SZWI7H7DbzhitWmNPwBmFFWeRxF8WO8PA+O0dfbECQ9c0SbuR7TQCKqyylbHsL1LfOQSw4ISe-MKruHy75_knGCQiRqx_UXKsZbFx0zCoqpcm--9DU+Uz+jL1LI0d6lb')\n",
    "cluster = Cluster(cloud=cloud_config, auth_provider=auth_provider)\n",
    "session = cluster.connect(\"energy_keyspace\")"
   ]
  },
  {
   "cell_type": "code",
   "execution_count": 4,
   "metadata": {},
   "outputs": [],
   "source": [
    "import pandas as pd\n",
    "def pandas_factory(colnames, rows):\n",
    "    return pd.DataFrame(rows, columns=colnames)\n",
    "\n",
    "session.row_factory = pandas_factory\n",
    "session.default_fetch_size = None\n",
    "\n",
    "query = \"SELECT * from energy_keyspace.energy\"\n",
    "rslt = session.execute(query, timeout=None)\n",
    "df = rslt._current_rows"
   ]
  },
  {
   "cell_type": "code",
   "execution_count": 6,
   "metadata": {},
   "outputs": [],
   "source": [
    "from energy_efficiency.util.util import *"
   ]
  },
  {
   "cell_type": "code",
   "execution_count": 7,
   "metadata": {},
   "outputs": [],
   "source": [
    "import pandas as pd"
   ]
  },
  {
   "cell_type": "code",
   "execution_count": 10,
   "metadata": {},
   "outputs": [],
   "source": [
    "df=pd.read_csv(r\"E:\\Ineuron\\Project\\energy_efficiency\\energy-ML_project\\energy_efficiency\\training_files\\dumped_data.csv\")"
   ]
  },
  {
   "cell_type": "code",
   "execution_count": 11,
   "metadata": {},
   "outputs": [
    {
     "data": {
      "text/html": [
       "<div>\n",
       "<style scoped>\n",
       "    .dataframe tbody tr th:only-of-type {\n",
       "        vertical-align: middle;\n",
       "    }\n",
       "\n",
       "    .dataframe tbody tr th {\n",
       "        vertical-align: top;\n",
       "    }\n",
       "\n",
       "    .dataframe thead th {\n",
       "        text-align: right;\n",
       "    }\n",
       "</style>\n",
       "<table border=\"1\" class=\"dataframe\">\n",
       "  <thead>\n",
       "    <tr style=\"text-align: right;\">\n",
       "      <th></th>\n",
       "      <th>id</th>\n",
       "      <th>cooling_load</th>\n",
       "      <th>glazing_area</th>\n",
       "      <th>glazing_area_distribution</th>\n",
       "      <th>heating_load</th>\n",
       "      <th>orientation</th>\n",
       "      <th>overall_height</th>\n",
       "      <th>relative_compactness</th>\n",
       "      <th>roof_area</th>\n",
       "      <th>surface_area</th>\n",
       "      <th>wall_area</th>\n",
       "    </tr>\n",
       "  </thead>\n",
       "  <tbody>\n",
       "    <tr>\n",
       "      <th>0</th>\n",
       "      <td>23</td>\n",
       "      <td>29.40</td>\n",
       "      <td>0.00</td>\n",
       "      <td>0</td>\n",
       "      <td>23.93</td>\n",
       "      <td>5</td>\n",
       "      <td>7.0</td>\n",
       "      <td>0.76</td>\n",
       "      <td>122.5</td>\n",
       "      <td>661.5</td>\n",
       "      <td>416.5</td>\n",
       "    </tr>\n",
       "    <tr>\n",
       "      <th>1</th>\n",
       "      <td>114</td>\n",
       "      <td>33.87</td>\n",
       "      <td>0.10</td>\n",
       "      <td>2</td>\n",
       "      <td>36.97</td>\n",
       "      <td>4</td>\n",
       "      <td>7.0</td>\n",
       "      <td>0.79</td>\n",
       "      <td>147.0</td>\n",
       "      <td>637.0</td>\n",
       "      <td>343.0</td>\n",
       "    </tr>\n",
       "    <tr>\n",
       "      <th>2</th>\n",
       "      <td>660</td>\n",
       "      <td>17.04</td>\n",
       "      <td>0.40</td>\n",
       "      <td>3</td>\n",
       "      <td>15.16</td>\n",
       "      <td>2</td>\n",
       "      <td>3.5</td>\n",
       "      <td>0.66</td>\n",
       "      <td>220.5</td>\n",
       "      <td>759.5</td>\n",
       "      <td>318.5</td>\n",
       "    </tr>\n",
       "    <tr>\n",
       "      <th>3</th>\n",
       "      <td>53</td>\n",
       "      <td>29.87</td>\n",
       "      <td>0.10</td>\n",
       "      <td>1</td>\n",
       "      <td>29.87</td>\n",
       "      <td>3</td>\n",
       "      <td>7.0</td>\n",
       "      <td>0.90</td>\n",
       "      <td>122.5</td>\n",
       "      <td>563.5</td>\n",
       "      <td>318.5</td>\n",
       "    </tr>\n",
       "    <tr>\n",
       "      <th>4</th>\n",
       "      <td>110</td>\n",
       "      <td>24.80</td>\n",
       "      <td>0.10</td>\n",
       "      <td>2</td>\n",
       "      <td>23.67</td>\n",
       "      <td>4</td>\n",
       "      <td>7.0</td>\n",
       "      <td>0.82</td>\n",
       "      <td>147.0</td>\n",
       "      <td>612.5</td>\n",
       "      <td>318.5</td>\n",
       "    </tr>\n",
       "    <tr>\n",
       "      <th>...</th>\n",
       "      <td>...</td>\n",
       "      <td>...</td>\n",
       "      <td>...</td>\n",
       "      <td>...</td>\n",
       "      <td>...</td>\n",
       "      <td>...</td>\n",
       "      <td>...</td>\n",
       "      <td>...</td>\n",
       "      <td>...</td>\n",
       "      <td>...</td>\n",
       "      <td>...</td>\n",
       "    </tr>\n",
       "    <tr>\n",
       "      <th>763</th>\n",
       "      <td>275</td>\n",
       "      <td>14.39</td>\n",
       "      <td>0.10</td>\n",
       "      <td>5</td>\n",
       "      <td>11.16</td>\n",
       "      <td>5</td>\n",
       "      <td>3.5</td>\n",
       "      <td>0.69</td>\n",
       "      <td>220.5</td>\n",
       "      <td>735.0</td>\n",
       "      <td>294.0</td>\n",
       "    </tr>\n",
       "    <tr>\n",
       "      <th>764</th>\n",
       "      <td>641</td>\n",
       "      <td>44.18</td>\n",
       "      <td>0.40</td>\n",
       "      <td>3</td>\n",
       "      <td>41.30</td>\n",
       "      <td>3</td>\n",
       "      <td>7.0</td>\n",
       "      <td>0.79</td>\n",
       "      <td>147.0</td>\n",
       "      <td>637.0</td>\n",
       "      <td>343.0</td>\n",
       "    </tr>\n",
       "    <tr>\n",
       "      <th>765</th>\n",
       "      <td>309</td>\n",
       "      <td>37.58</td>\n",
       "      <td>0.25</td>\n",
       "      <td>1</td>\n",
       "      <td>36.13</td>\n",
       "      <td>3</td>\n",
       "      <td>7.0</td>\n",
       "      <td>0.76</td>\n",
       "      <td>122.5</td>\n",
       "      <td>661.5</td>\n",
       "      <td>416.5</td>\n",
       "    </tr>\n",
       "    <tr>\n",
       "      <th>766</th>\n",
       "      <td>232</td>\n",
       "      <td>19.24</td>\n",
       "      <td>0.10</td>\n",
       "      <td>4</td>\n",
       "      <td>15.40</td>\n",
       "      <td>2</td>\n",
       "      <td>3.5</td>\n",
       "      <td>0.64</td>\n",
       "      <td>220.5</td>\n",
       "      <td>784.0</td>\n",
       "      <td>343.0</td>\n",
       "    </tr>\n",
       "    <tr>\n",
       "      <th>767</th>\n",
       "      <td>103</td>\n",
       "      <td>34.20</td>\n",
       "      <td>0.10</td>\n",
       "      <td>2</td>\n",
       "      <td>27.90</td>\n",
       "      <td>5</td>\n",
       "      <td>7.0</td>\n",
       "      <td>0.90</td>\n",
       "      <td>122.5</td>\n",
       "      <td>563.5</td>\n",
       "      <td>318.5</td>\n",
       "    </tr>\n",
       "  </tbody>\n",
       "</table>\n",
       "<p>768 rows × 11 columns</p>\n",
       "</div>"
      ],
      "text/plain": [
       "      id  cooling_load  glazing_area  glazing_area_distribution  heating_load  \\\n",
       "0     23         29.40          0.00                          0         23.93   \n",
       "1    114         33.87          0.10                          2         36.97   \n",
       "2    660         17.04          0.40                          3         15.16   \n",
       "3     53         29.87          0.10                          1         29.87   \n",
       "4    110         24.80          0.10                          2         23.67   \n",
       "..   ...           ...           ...                        ...           ...   \n",
       "763  275         14.39          0.10                          5         11.16   \n",
       "764  641         44.18          0.40                          3         41.30   \n",
       "765  309         37.58          0.25                          1         36.13   \n",
       "766  232         19.24          0.10                          4         15.40   \n",
       "767  103         34.20          0.10                          2         27.90   \n",
       "\n",
       "     orientation  overall_height  relative_compactness  roof_area  \\\n",
       "0              5             7.0                  0.76      122.5   \n",
       "1              4             7.0                  0.79      147.0   \n",
       "2              2             3.5                  0.66      220.5   \n",
       "3              3             7.0                  0.90      122.5   \n",
       "4              4             7.0                  0.82      147.0   \n",
       "..           ...             ...                   ...        ...   \n",
       "763            5             3.5                  0.69      220.5   \n",
       "764            3             7.0                  0.79      147.0   \n",
       "765            3             7.0                  0.76      122.5   \n",
       "766            2             3.5                  0.64      220.5   \n",
       "767            5             7.0                  0.90      122.5   \n",
       "\n",
       "     surface_area  wall_area  \n",
       "0           661.5      416.5  \n",
       "1           637.0      343.0  \n",
       "2           759.5      318.5  \n",
       "3           563.5      318.5  \n",
       "4           612.5      318.5  \n",
       "..            ...        ...  \n",
       "763         735.0      294.0  \n",
       "764         637.0      343.0  \n",
       "765         661.5      416.5  \n",
       "766         784.0      343.0  \n",
       "767         563.5      318.5  \n",
       "\n",
       "[768 rows x 11 columns]"
      ]
     },
     "execution_count": 11,
     "metadata": {},
     "output_type": "execute_result"
    }
   ],
   "source": [
    "df"
   ]
  },
  {
   "cell_type": "code",
   "execution_count": 15,
   "metadata": {},
   "outputs": [
    {
     "data": {
      "text/plain": [
       "{'id': 'int64',\n",
       " 'cooling_load': 'float64',\n",
       " 'glazing_area': 'float64',\n",
       " 'glazing_area_distribution': 'int64',\n",
       " 'heating_load': 'float64',\n",
       " 'orientation': 'int64',\n",
       " 'overall_height': 'float64',\n",
       " 'relative_compactness': 'float64',\n",
       " 'roof_area': 'float64',\n",
       " 'surface_area': 'float64',\n",
       " 'wall_area': 'float64'}"
      ]
     },
     "execution_count": 15,
     "metadata": {},
     "output_type": "execute_result"
    }
   ],
   "source": [
    "d={}\n",
    "for key in df.columns:\n",
    "    d[key]=str(df[key].dtypes)\n",
    "d"
   ]
  },
  {
   "cell_type": "code",
   "execution_count": 1,
   "metadata": {},
   "outputs": [],
   "source": [
    "from energy_efficiency.constant.constant import *"
   ]
  },
  {
   "cell_type": "code",
   "execution_count": 2,
   "metadata": {},
   "outputs": [],
   "source": [
    "from energy_efficiency.util.util import read_yaml_file"
   ]
  },
  {
   "cell_type": "code",
   "execution_count": 7,
   "metadata": {},
   "outputs": [
    {
     "data": {
      "text/plain": [
       "['id',\n",
       " 'cooling_load',\n",
       " 'glazing_area',\n",
       " 'glazing_area_distribution',\n",
       " 'heating_load',\n",
       " 'orientation',\n",
       " 'overall_height',\n",
       " 'relative_compactness',\n",
       " 'roof_area',\n",
       " 'surface_area',\n",
       " 'wall_area']"
      ]
     },
     "execution_count": 7,
     "metadata": {},
     "output_type": "execute_result"
    }
   ],
   "source": [
    "list(read_yaml_file(SCHEMA_FILE_PATH).keys())"
   ]
  },
  {
   "cell_type": "code",
   "execution_count": null,
   "metadata": {},
   "outputs": [],
   "source": [
    "energy_efficiency\\artifact\\data_ingestion"
   ]
  },
  {
   "cell_type": "code",
   "execution_count": 5,
   "metadata": {},
   "outputs": [],
   "source": [
    "import datetime\n"
   ]
  },
  {
   "cell_type": "code",
   "execution_count": 14,
   "metadata": {},
   "outputs": [
    {
     "name": "stdout",
     "output_type": "stream",
     "text": [
      "Date and time is: 2022-07-24 15:45:09.248922\n",
      "Timestamp is: 1658657709.248922\n"
     ]
    }
   ],
   "source": [
    "dt = str(datetime.datetime.now())\n",
    "\n",
    "# getting the timestamp\n",
    "ts = datetime.datetime.timestamp(dt)\n",
    "\n",
    "print(\"Date and time is:\", dt)\n",
    "print(\"Timestamp is:\", ts)"
   ]
  },
  {
   "cell_type": "code",
   "execution_count": 21,
   "metadata": {},
   "outputs": [],
   "source": [
    "os.makedirs(DUMP_DATA_LINE+\"\\\\\"+datetime.datetime.now().strftime('%Y-%m-%d-%H-%M-%S'))"
   ]
  },
  {
   "cell_type": "code",
   "execution_count": 29,
   "metadata": {},
   "outputs": [
    {
     "ename": "TypeError",
     "evalue": "expected str, bytes or os.PathLike object, not NoneType",
     "output_type": "error",
     "traceback": [
      "\u001b[1;31m---------------------------------------------------------------------------\u001b[0m",
      "\u001b[1;31mTypeError\u001b[0m                                 Traceback (most recent call last)",
      "\u001b[1;32me:\\Ineuron\\Project\\energy_efficiency\\energy-ML_project\\pop.ipynb Cell 15\u001b[0m in \u001b[0;36m<cell line: 3>\u001b[1;34m()\u001b[0m\n\u001b[0;32m      <a href='vscode-notebook-cell:/e%3A/Ineuron/Project/energy_efficiency/energy-ML_project/pop.ipynb#ch0000014?line=0'>1</a>\u001b[0m \u001b[39mimport\u001b[39;00m \u001b[39mos\u001b[39;00m\n\u001b[0;32m      <a href='vscode-notebook-cell:/e%3A/Ineuron/Project/energy_efficiency/energy-ML_project/pop.ipynb#ch0000014?line=1'>2</a>\u001b[0m p\u001b[39m=\u001b[39mos\u001b[39m.\u001b[39mmakedirs(os\u001b[39m.\u001b[39mpath\u001b[39m.\u001b[39mjoin(DUMP_DATA_LINE,datetime\u001b[39m.\u001b[39mdatetime\u001b[39m.\u001b[39mnow()\u001b[39m.\u001b[39mstrftime(\u001b[39m'\u001b[39m\u001b[39m%\u001b[39m\u001b[39mY-\u001b[39m\u001b[39m%\u001b[39m\u001b[39mm-\u001b[39m\u001b[39m%d\u001b[39;00m\u001b[39m-\u001b[39m\u001b[39m%\u001b[39m\u001b[39mH-\u001b[39m\u001b[39m%\u001b[39m\u001b[39mM-\u001b[39m\u001b[39m%\u001b[39m\u001b[39mS\u001b[39m\u001b[39m'\u001b[39m)),exist_ok\u001b[39m=\u001b[39m\u001b[39mTrue\u001b[39;00m)\n\u001b[1;32m----> <a href='vscode-notebook-cell:/e%3A/Ineuron/Project/energy_efficiency/energy-ML_project/pop.ipynb#ch0000014?line=2'>3</a>\u001b[0m os\u001b[39m.\u001b[39;49mpath\u001b[39m.\u001b[39;49mjoin(p,\u001b[39m\"\u001b[39;49m\u001b[39mdumped_data.csv\u001b[39;49m\u001b[39m\"\u001b[39;49m)\n",
      "File \u001b[1;32me:\\Ineuron\\Project\\energy_efficiency\\energy-ML_project\\venv\\lib\\ntpath.py:78\u001b[0m, in \u001b[0;36mjoin\u001b[1;34m(path, *paths)\u001b[0m\n\u001b[0;32m     77\u001b[0m \u001b[39mdef\u001b[39;00m \u001b[39mjoin\u001b[39m(path, \u001b[39m*\u001b[39mpaths):\n\u001b[1;32m---> 78\u001b[0m     path \u001b[39m=\u001b[39m os\u001b[39m.\u001b[39;49mfspath(path)\n\u001b[0;32m     79\u001b[0m     \u001b[39mif\u001b[39;00m \u001b[39misinstance\u001b[39m(path, \u001b[39mbytes\u001b[39m):\n\u001b[0;32m     80\u001b[0m         sep \u001b[39m=\u001b[39m \u001b[39mb\u001b[39m\u001b[39m'\u001b[39m\u001b[39m\\\\\u001b[39;00m\u001b[39m'\u001b[39m\n",
      "\u001b[1;31mTypeError\u001b[0m: expected str, bytes or os.PathLike object, not NoneType"
     ]
    }
   ],
   "source": [
    "import os\n",
    "p=os.makedirs(os.path.join(DUMP_DATA_LINE,datetime.datetime.now().strftime('%Y-%m-%d-%H-%M-%S')),exist_ok=True)\n",
    "os.path.join(p,\"dumped_data.csv\")"
   ]
  },
  {
   "cell_type": "code",
   "execution_count": 28,
   "metadata": {},
   "outputs": [
    {
     "data": {
      "text/plain": [
       "'E:\\\\Ineuron\\\\Project\\\\energy_efficiency\\\\energy-ML_project\\\\energy_efficiency\\x07rtifact\\\\data_ingestion\\x822-07-24-15-58-59\\\\data.csv'"
      ]
     },
     "execution_count": 28,
     "metadata": {},
     "output_type": "execute_result"
    }
   ],
   "source": [
    "os.path.join(\"E:\\Ineuron\\Project\\energy_efficiency\\energy-ML_project\\energy_efficiency\\artifact\\data_ingestion\\2022-07-24-15-58-59\",\"data.csv\")"
   ]
  },
  {
   "cell_type": "code",
   "execution_count": 31,
   "metadata": {},
   "outputs": [],
   "source": [
    "path_dir=os.makedirs(os.path.join(DUMP_DATA_LINE,datetime.datetime.now().strftime('%Y-%m-%d-%H-%M-%S')),exist_ok=True)"
   ]
  },
  {
   "cell_type": "code",
   "execution_count": 33,
   "metadata": {},
   "outputs": [
    {
     "data": {
      "text/plain": [
       "'E:\\\\Ineuron\\\\Project\\\\energy_efficiency\\\\energy-ML_project\\\\energy_efficiency\\\\artifact\\\\data_ingestion\\\\2022-07-24-16-06-18\\\\dumped_data.csv'"
      ]
     },
     "execution_count": 33,
     "metadata": {},
     "output_type": "execute_result"
    }
   ],
   "source": [
    "os.path.join(DUMP_DATA_LINE,datetime.datetime.now().strftime('%Y-%m-%d-%H-%M-%S'),\"dumped_data.csv\")"
   ]
  },
  {
   "cell_type": "code",
   "execution_count": 11,
   "metadata": {},
   "outputs": [],
   "source": [
    "import pandas as pd\n",
    "df=pd.read_csv(r\"E:\\Ineuron\\Project\\energy_efficiency\\energy-ML_project\\energy_efficiency\\artifact\\data_transformation\\transformed_data\\2022-07-24-17-27-07\\transformed.csv\")"
   ]
  },
  {
   "cell_type": "code",
   "execution_count": 12,
   "metadata": {},
   "outputs": [],
   "source": [
    "import pickle\n",
    "with open(r\"E:\\Ineuron\\Project\\energy_efficiency\\energy-ML_project\\energy_efficiency\\artifact\\data_transformation\\preprocessed\\2022-07-24-17-27-07\\preprocessed.pkl\",\"rb\") as f:\n",
    "    scaler=pickle.load(f)\n"
   ]
  },
  {
   "cell_type": "code",
   "execution_count": 23,
   "metadata": {},
   "outputs": [
    {
     "data": {
      "text/html": [
       "<div>\n",
       "<style scoped>\n",
       "    .dataframe tbody tr th:only-of-type {\n",
       "        vertical-align: middle;\n",
       "    }\n",
       "\n",
       "    .dataframe tbody tr th {\n",
       "        vertical-align: top;\n",
       "    }\n",
       "\n",
       "    .dataframe thead th {\n",
       "        text-align: right;\n",
       "    }\n",
       "</style>\n",
       "<table border=\"1\" class=\"dataframe\">\n",
       "  <thead>\n",
       "    <tr style=\"text-align: right;\">\n",
       "      <th></th>\n",
       "      <th>index</th>\n",
       "      <th>id</th>\n",
       "      <th>cooling_load</th>\n",
       "      <th>glazing_area</th>\n",
       "      <th>glazing_area_distribution</th>\n",
       "      <th>heating_load</th>\n",
       "      <th>orientation</th>\n",
       "      <th>overall_height</th>\n",
       "      <th>relative_compactness</th>\n",
       "      <th>roof_area</th>\n",
       "      <th>surface_area</th>\n",
       "      <th>wall_area</th>\n",
       "    </tr>\n",
       "  </thead>\n",
       "  <tbody>\n",
       "    <tr>\n",
       "      <th>0</th>\n",
       "      <td>0</td>\n",
       "      <td>-1.737131</td>\n",
       "      <td>-2.533008</td>\n",
       "      <td>-14.983587</td>\n",
       "      <td>-2.985307</td>\n",
       "      <td>-2.196258</td>\n",
       "      <td>-1.930495</td>\n",
       "      <td>-2.428571</td>\n",
       "      <td>-7.601872</td>\n",
       "      <td>-3.939222</td>\n",
       "      <td>-7.631874</td>\n",
       "      <td>-7.253812</td>\n",
       "    </tr>\n",
       "    <tr>\n",
       "      <th>1</th>\n",
       "      <td>1</td>\n",
       "      <td>-1.735280</td>\n",
       "      <td>-2.483553</td>\n",
       "      <td>-9.341714</td>\n",
       "      <td>-2.152787</td>\n",
       "      <td>-2.068012</td>\n",
       "      <td>-2.730495</td>\n",
       "      <td>-2.428571</td>\n",
       "      <td>-4.917142</td>\n",
       "      <td>-3.927197</td>\n",
       "      <td>-7.635035</td>\n",
       "      <td>-7.292480</td>\n",
       "    </tr>\n",
       "    <tr>\n",
       "      <th>2</th>\n",
       "      <td>2</td>\n",
       "      <td>-1.724172</td>\n",
       "      <td>-2.669756</td>\n",
       "      <td>7.583906</td>\n",
       "      <td>-1.736526</td>\n",
       "      <td>-2.282509</td>\n",
       "      <td>-4.330495</td>\n",
       "      <td>-3.571429</td>\n",
       "      <td>-16.550974</td>\n",
       "      <td>-3.891120</td>\n",
       "      <td>-7.619227</td>\n",
       "      <td>-7.305369</td>\n",
       "    </tr>\n",
       "    <tr>\n",
       "      <th>3</th>\n",
       "      <td>3</td>\n",
       "      <td>-1.736521</td>\n",
       "      <td>-2.527808</td>\n",
       "      <td>-9.341714</td>\n",
       "      <td>-2.569047</td>\n",
       "      <td>-2.137839</td>\n",
       "      <td>-3.530495</td>\n",
       "      <td>-2.428571</td>\n",
       "      <td>4.926870</td>\n",
       "      <td>-3.939222</td>\n",
       "      <td>-7.644520</td>\n",
       "      <td>-7.305369</td>\n",
       "    </tr>\n",
       "    <tr>\n",
       "      <th>4</th>\n",
       "      <td>4</td>\n",
       "      <td>-1.735361</td>\n",
       "      <td>-2.583902</td>\n",
       "      <td>-9.341714</td>\n",
       "      <td>-2.152787</td>\n",
       "      <td>-2.198815</td>\n",
       "      <td>-2.730495</td>\n",
       "      <td>-2.428571</td>\n",
       "      <td>-2.232411</td>\n",
       "      <td>-3.927197</td>\n",
       "      <td>-7.638197</td>\n",
       "      <td>-7.305369</td>\n",
       "    </tr>\n",
       "    <tr>\n",
       "      <th>...</th>\n",
       "      <td>...</td>\n",
       "      <td>...</td>\n",
       "      <td>...</td>\n",
       "      <td>...</td>\n",
       "      <td>...</td>\n",
       "      <td>...</td>\n",
       "      <td>...</td>\n",
       "      <td>...</td>\n",
       "      <td>...</td>\n",
       "      <td>...</td>\n",
       "      <td>...</td>\n",
       "      <td>...</td>\n",
       "    </tr>\n",
       "    <tr>\n",
       "      <th>763</th>\n",
       "      <td>763</td>\n",
       "      <td>-1.732004</td>\n",
       "      <td>-2.699075</td>\n",
       "      <td>-9.341714</td>\n",
       "      <td>-0.904006</td>\n",
       "      <td>-2.321849</td>\n",
       "      <td>-1.930495</td>\n",
       "      <td>-3.571429</td>\n",
       "      <td>-13.866244</td>\n",
       "      <td>-3.891120</td>\n",
       "      <td>-7.622389</td>\n",
       "      <td>-7.318259</td>\n",
       "    </tr>\n",
       "    <tr>\n",
       "      <th>764</th>\n",
       "      <td>764</td>\n",
       "      <td>-1.724558</td>\n",
       "      <td>-2.369486</td>\n",
       "      <td>7.583906</td>\n",
       "      <td>-1.736526</td>\n",
       "      <td>-2.025428</td>\n",
       "      <td>-3.530495</td>\n",
       "      <td>-2.428571</td>\n",
       "      <td>-4.917142</td>\n",
       "      <td>-3.927197</td>\n",
       "      <td>-7.635035</td>\n",
       "      <td>-7.292480</td>\n",
       "    </tr>\n",
       "    <tr>\n",
       "      <th>765</th>\n",
       "      <td>765</td>\n",
       "      <td>-1.731313</td>\n",
       "      <td>-2.442507</td>\n",
       "      <td>-0.878904</td>\n",
       "      <td>-2.569047</td>\n",
       "      <td>-2.076274</td>\n",
       "      <td>-3.530495</td>\n",
       "      <td>-2.428571</td>\n",
       "      <td>-7.601872</td>\n",
       "      <td>-3.939222</td>\n",
       "      <td>-7.631874</td>\n",
       "      <td>-7.253812</td>\n",
       "    </tr>\n",
       "    <tr>\n",
       "      <th>766</th>\n",
       "      <td>766</td>\n",
       "      <td>-1.732879</td>\n",
       "      <td>-2.645416</td>\n",
       "      <td>-9.341714</td>\n",
       "      <td>-1.320266</td>\n",
       "      <td>-2.280149</td>\n",
       "      <td>-4.330495</td>\n",
       "      <td>-3.571429</td>\n",
       "      <td>-18.340795</td>\n",
       "      <td>-3.891120</td>\n",
       "      <td>-7.616065</td>\n",
       "      <td>-7.292480</td>\n",
       "    </tr>\n",
       "    <tr>\n",
       "      <th>767</th>\n",
       "      <td>767</td>\n",
       "      <td>-1.735504</td>\n",
       "      <td>-2.479902</td>\n",
       "      <td>-9.341714</td>\n",
       "      <td>-2.152787</td>\n",
       "      <td>-2.157214</td>\n",
       "      <td>-1.930495</td>\n",
       "      <td>-2.428571</td>\n",
       "      <td>4.926870</td>\n",
       "      <td>-3.939222</td>\n",
       "      <td>-7.644520</td>\n",
       "      <td>-7.305369</td>\n",
       "    </tr>\n",
       "  </tbody>\n",
       "</table>\n",
       "<p>768 rows × 12 columns</p>\n",
       "</div>"
      ],
      "text/plain": [
       "     index        id  cooling_load  glazing_area  glazing_area_distribution  \\\n",
       "0        0 -1.737131     -2.533008    -14.983587                  -2.985307   \n",
       "1        1 -1.735280     -2.483553     -9.341714                  -2.152787   \n",
       "2        2 -1.724172     -2.669756      7.583906                  -1.736526   \n",
       "3        3 -1.736521     -2.527808     -9.341714                  -2.569047   \n",
       "4        4 -1.735361     -2.583902     -9.341714                  -2.152787   \n",
       "..     ...       ...           ...           ...                        ...   \n",
       "763    763 -1.732004     -2.699075     -9.341714                  -0.904006   \n",
       "764    764 -1.724558     -2.369486      7.583906                  -1.736526   \n",
       "765    765 -1.731313     -2.442507     -0.878904                  -2.569047   \n",
       "766    766 -1.732879     -2.645416     -9.341714                  -1.320266   \n",
       "767    767 -1.735504     -2.479902     -9.341714                  -2.152787   \n",
       "\n",
       "     heating_load  orientation  overall_height  relative_compactness  \\\n",
       "0       -2.196258    -1.930495       -2.428571             -7.601872   \n",
       "1       -2.068012    -2.730495       -2.428571             -4.917142   \n",
       "2       -2.282509    -4.330495       -3.571429            -16.550974   \n",
       "3       -2.137839    -3.530495       -2.428571              4.926870   \n",
       "4       -2.198815    -2.730495       -2.428571             -2.232411   \n",
       "..            ...          ...             ...                   ...   \n",
       "763     -2.321849    -1.930495       -3.571429            -13.866244   \n",
       "764     -2.025428    -3.530495       -2.428571             -4.917142   \n",
       "765     -2.076274    -3.530495       -2.428571             -7.601872   \n",
       "766     -2.280149    -4.330495       -3.571429            -18.340795   \n",
       "767     -2.157214    -1.930495       -2.428571              4.926870   \n",
       "\n",
       "     roof_area  surface_area  wall_area  \n",
       "0    -3.939222     -7.631874  -7.253812  \n",
       "1    -3.927197     -7.635035  -7.292480  \n",
       "2    -3.891120     -7.619227  -7.305369  \n",
       "3    -3.939222     -7.644520  -7.305369  \n",
       "4    -3.927197     -7.638197  -7.305369  \n",
       "..         ...           ...        ...  \n",
       "763  -3.891120     -7.622389  -7.318259  \n",
       "764  -3.927197     -7.635035  -7.292480  \n",
       "765  -3.939222     -7.631874  -7.253812  \n",
       "766  -3.891120     -7.616065  -7.292480  \n",
       "767  -3.939222     -7.644520  -7.305369  \n",
       "\n",
       "[768 rows x 12 columns]"
      ]
     },
     "execution_count": 23,
     "metadata": {},
     "output_type": "execute_result"
    }
   ],
   "source": [
    "pd.DataFrame(scaler.transform(df),columns=df.columns).reset_index()"
   ]
  },
  {
   "cell_type": "code",
   "execution_count": 22,
   "metadata": {},
   "outputs": [
    {
     "data": {
      "text/plain": [
       "('num_pipeline',\n",
       " Pipeline(steps=[('imputer', KNNImputer()), ('scaler', StandardScaler())]),\n",
       " Index(['id', 'cooling_load', 'glazing_area', 'glazing_area_distribution',\n",
       "        'heating_load', 'orientation', 'overall_height', 'relative_compactness',\n",
       "        'roof_area', 'surface_area', 'wall_area'],\n",
       "       dtype='object'))"
      ]
     },
     "execution_count": 22,
     "metadata": {},
     "output_type": "execute_result"
    }
   ],
   "source": [
    "scaler.in"
   ]
  },
  {
   "cell_type": "code",
   "execution_count": null,
   "metadata": {},
   "outputs": [],
   "source": []
  }
 ],
 "metadata": {
  "kernelspec": {
   "display_name": "Python 3.9.0 (conda)",
   "language": "python",
   "name": "python3"
  },
  "language_info": {
   "codemirror_mode": {
    "name": "ipython",
    "version": 3
   },
   "file_extension": ".py",
   "mimetype": "text/x-python",
   "name": "python",
   "nbconvert_exporter": "python",
   "pygments_lexer": "ipython3",
   "version": "3.9.0"
  },
  "orig_nbformat": 4,
  "vscode": {
   "interpreter": {
    "hash": "30406590327b290fc87f3fe9e0d9f4bb331fe4636690d0b754abb8e2aa011a33"
   }
  }
 },
 "nbformat": 4,
 "nbformat_minor": 2
}
