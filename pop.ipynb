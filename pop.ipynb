{
 "cells": [
  {
   "cell_type": "code",
   "execution_count": 3,
   "metadata": {},
   "outputs": [],
   "source": [
    "from cassandra.cluster import Cluster\n",
    "from cassandra.auth import PlainTextAuthProvider\n",
    "\n",
    "cloud_config= {\n",
    "        'secure_connect_bundle': 'E:\\ml project\\secure-connect-energy-efficient.zip'\n",
    "}\n",
    "auth_provider = PlainTextAuthProvider('qfXJZoknpszuzBCIgqRjWIwf', 'SZWI7H7DbzhitWmNPwBmFFWeRxF8WO8PA+O0dfbECQ9c0SbuR7TQCKqyylbHsL1LfOQSw4ISe-MKruHy75_knGCQiRqx_UXKsZbFx0zCoqpcm--9DU+Uz+jL1LI0d6lb')\n",
    "cluster = Cluster(cloud=cloud_config, auth_provider=auth_provider)\n",
    "session = cluster.connect(\"energy_keyspace\")"
   ]
  },
  {
   "cell_type": "code",
   "execution_count": 4,
   "metadata": {},
   "outputs": [],
   "source": [
    "import pandas as pd\n",
    "def pandas_factory(colnames, rows):\n",
    "    return pd.DataFrame(rows, columns=colnames)\n",
    "\n",
    "session.row_factory = pandas_factory\n",
    "session.default_fetch_size = None\n",
    "\n",
    "query = \"SELECT * from energy_keyspace.energy\"\n",
    "rslt = session.execute(query, timeout=None)\n",
    "df = rslt._current_rows"
   ]
  },
  {
   "cell_type": "code",
   "execution_count": 6,
   "metadata": {},
   "outputs": [],
   "source": [
    "from energy_efficiency.util.util import *"
   ]
  },
  {
   "cell_type": "code",
   "execution_count": 7,
   "metadata": {},
   "outputs": [],
   "source": [
    "import pandas as pd"
   ]
  },
  {
   "cell_type": "code",
   "execution_count": 10,
   "metadata": {},
   "outputs": [],
   "source": [
    "df=pd.read_csv(r\"E:\\Ineuron\\Project\\energy_efficiency\\energy-ML_project\\energy_efficiency\\training_files\\dumped_data.csv\")"
   ]
  },
  {
   "cell_type": "code",
   "execution_count": 11,
   "metadata": {},
   "outputs": [
    {
     "data": {
      "text/html": [
       "<div>\n",
       "<style scoped>\n",
       "    .dataframe tbody tr th:only-of-type {\n",
       "        vertical-align: middle;\n",
       "    }\n",
       "\n",
       "    .dataframe tbody tr th {\n",
       "        vertical-align: top;\n",
       "    }\n",
       "\n",
       "    .dataframe thead th {\n",
       "        text-align: right;\n",
       "    }\n",
       "</style>\n",
       "<table border=\"1\" class=\"dataframe\">\n",
       "  <thead>\n",
       "    <tr style=\"text-align: right;\">\n",
       "      <th></th>\n",
       "      <th>id</th>\n",
       "      <th>cooling_load</th>\n",
       "      <th>glazing_area</th>\n",
       "      <th>glazing_area_distribution</th>\n",
       "      <th>heating_load</th>\n",
       "      <th>orientation</th>\n",
       "      <th>overall_height</th>\n",
       "      <th>relative_compactness</th>\n",
       "      <th>roof_area</th>\n",
       "      <th>surface_area</th>\n",
       "      <th>wall_area</th>\n",
       "    </tr>\n",
       "  </thead>\n",
       "  <tbody>\n",
       "    <tr>\n",
       "      <th>0</th>\n",
       "      <td>23</td>\n",
       "      <td>29.40</td>\n",
       "      <td>0.00</td>\n",
       "      <td>0</td>\n",
       "      <td>23.93</td>\n",
       "      <td>5</td>\n",
       "      <td>7.0</td>\n",
       "      <td>0.76</td>\n",
       "      <td>122.5</td>\n",
       "      <td>661.5</td>\n",
       "      <td>416.5</td>\n",
       "    </tr>\n",
       "    <tr>\n",
       "      <th>1</th>\n",
       "      <td>114</td>\n",
       "      <td>33.87</td>\n",
       "      <td>0.10</td>\n",
       "      <td>2</td>\n",
       "      <td>36.97</td>\n",
       "      <td>4</td>\n",
       "      <td>7.0</td>\n",
       "      <td>0.79</td>\n",
       "      <td>147.0</td>\n",
       "      <td>637.0</td>\n",
       "      <td>343.0</td>\n",
       "    </tr>\n",
       "    <tr>\n",
       "      <th>2</th>\n",
       "      <td>660</td>\n",
       "      <td>17.04</td>\n",
       "      <td>0.40</td>\n",
       "      <td>3</td>\n",
       "      <td>15.16</td>\n",
       "      <td>2</td>\n",
       "      <td>3.5</td>\n",
       "      <td>0.66</td>\n",
       "      <td>220.5</td>\n",
       "      <td>759.5</td>\n",
       "      <td>318.5</td>\n",
       "    </tr>\n",
       "    <tr>\n",
       "      <th>3</th>\n",
       "      <td>53</td>\n",
       "      <td>29.87</td>\n",
       "      <td>0.10</td>\n",
       "      <td>1</td>\n",
       "      <td>29.87</td>\n",
       "      <td>3</td>\n",
       "      <td>7.0</td>\n",
       "      <td>0.90</td>\n",
       "      <td>122.5</td>\n",
       "      <td>563.5</td>\n",
       "      <td>318.5</td>\n",
       "    </tr>\n",
       "    <tr>\n",
       "      <th>4</th>\n",
       "      <td>110</td>\n",
       "      <td>24.80</td>\n",
       "      <td>0.10</td>\n",
       "      <td>2</td>\n",
       "      <td>23.67</td>\n",
       "      <td>4</td>\n",
       "      <td>7.0</td>\n",
       "      <td>0.82</td>\n",
       "      <td>147.0</td>\n",
       "      <td>612.5</td>\n",
       "      <td>318.5</td>\n",
       "    </tr>\n",
       "    <tr>\n",
       "      <th>...</th>\n",
       "      <td>...</td>\n",
       "      <td>...</td>\n",
       "      <td>...</td>\n",
       "      <td>...</td>\n",
       "      <td>...</td>\n",
       "      <td>...</td>\n",
       "      <td>...</td>\n",
       "      <td>...</td>\n",
       "      <td>...</td>\n",
       "      <td>...</td>\n",
       "      <td>...</td>\n",
       "    </tr>\n",
       "    <tr>\n",
       "      <th>763</th>\n",
       "      <td>275</td>\n",
       "      <td>14.39</td>\n",
       "      <td>0.10</td>\n",
       "      <td>5</td>\n",
       "      <td>11.16</td>\n",
       "      <td>5</td>\n",
       "      <td>3.5</td>\n",
       "      <td>0.69</td>\n",
       "      <td>220.5</td>\n",
       "      <td>735.0</td>\n",
       "      <td>294.0</td>\n",
       "    </tr>\n",
       "    <tr>\n",
       "      <th>764</th>\n",
       "      <td>641</td>\n",
       "      <td>44.18</td>\n",
       "      <td>0.40</td>\n",
       "      <td>3</td>\n",
       "      <td>41.30</td>\n",
       "      <td>3</td>\n",
       "      <td>7.0</td>\n",
       "      <td>0.79</td>\n",
       "      <td>147.0</td>\n",
       "      <td>637.0</td>\n",
       "      <td>343.0</td>\n",
       "    </tr>\n",
       "    <tr>\n",
       "      <th>765</th>\n",
       "      <td>309</td>\n",
       "      <td>37.58</td>\n",
       "      <td>0.25</td>\n",
       "      <td>1</td>\n",
       "      <td>36.13</td>\n",
       "      <td>3</td>\n",
       "      <td>7.0</td>\n",
       "      <td>0.76</td>\n",
       "      <td>122.5</td>\n",
       "      <td>661.5</td>\n",
       "      <td>416.5</td>\n",
       "    </tr>\n",
       "    <tr>\n",
       "      <th>766</th>\n",
       "      <td>232</td>\n",
       "      <td>19.24</td>\n",
       "      <td>0.10</td>\n",
       "      <td>4</td>\n",
       "      <td>15.40</td>\n",
       "      <td>2</td>\n",
       "      <td>3.5</td>\n",
       "      <td>0.64</td>\n",
       "      <td>220.5</td>\n",
       "      <td>784.0</td>\n",
       "      <td>343.0</td>\n",
       "    </tr>\n",
       "    <tr>\n",
       "      <th>767</th>\n",
       "      <td>103</td>\n",
       "      <td>34.20</td>\n",
       "      <td>0.10</td>\n",
       "      <td>2</td>\n",
       "      <td>27.90</td>\n",
       "      <td>5</td>\n",
       "      <td>7.0</td>\n",
       "      <td>0.90</td>\n",
       "      <td>122.5</td>\n",
       "      <td>563.5</td>\n",
       "      <td>318.5</td>\n",
       "    </tr>\n",
       "  </tbody>\n",
       "</table>\n",
       "<p>768 rows × 11 columns</p>\n",
       "</div>"
      ],
      "text/plain": [
       "      id  cooling_load  glazing_area  glazing_area_distribution  heating_load  \\\n",
       "0     23         29.40          0.00                          0         23.93   \n",
       "1    114         33.87          0.10                          2         36.97   \n",
       "2    660         17.04          0.40                          3         15.16   \n",
       "3     53         29.87          0.10                          1         29.87   \n",
       "4    110         24.80          0.10                          2         23.67   \n",
       "..   ...           ...           ...                        ...           ...   \n",
       "763  275         14.39          0.10                          5         11.16   \n",
       "764  641         44.18          0.40                          3         41.30   \n",
       "765  309         37.58          0.25                          1         36.13   \n",
       "766  232         19.24          0.10                          4         15.40   \n",
       "767  103         34.20          0.10                          2         27.90   \n",
       "\n",
       "     orientation  overall_height  relative_compactness  roof_area  \\\n",
       "0              5             7.0                  0.76      122.5   \n",
       "1              4             7.0                  0.79      147.0   \n",
       "2              2             3.5                  0.66      220.5   \n",
       "3              3             7.0                  0.90      122.5   \n",
       "4              4             7.0                  0.82      147.0   \n",
       "..           ...             ...                   ...        ...   \n",
       "763            5             3.5                  0.69      220.5   \n",
       "764            3             7.0                  0.79      147.0   \n",
       "765            3             7.0                  0.76      122.5   \n",
       "766            2             3.5                  0.64      220.5   \n",
       "767            5             7.0                  0.90      122.5   \n",
       "\n",
       "     surface_area  wall_area  \n",
       "0           661.5      416.5  \n",
       "1           637.0      343.0  \n",
       "2           759.5      318.5  \n",
       "3           563.5      318.5  \n",
       "4           612.5      318.5  \n",
       "..            ...        ...  \n",
       "763         735.0      294.0  \n",
       "764         637.0      343.0  \n",
       "765         661.5      416.5  \n",
       "766         784.0      343.0  \n",
       "767         563.5      318.5  \n",
       "\n",
       "[768 rows x 11 columns]"
      ]
     },
     "execution_count": 11,
     "metadata": {},
     "output_type": "execute_result"
    }
   ],
   "source": [
    "df"
   ]
  },
  {
   "cell_type": "code",
   "execution_count": 15,
   "metadata": {},
   "outputs": [
    {
     "data": {
      "text/plain": [
       "{'id': 'int64',\n",
       " 'cooling_load': 'float64',\n",
       " 'glazing_area': 'float64',\n",
       " 'glazing_area_distribution': 'int64',\n",
       " 'heating_load': 'float64',\n",
       " 'orientation': 'int64',\n",
       " 'overall_height': 'float64',\n",
       " 'relative_compactness': 'float64',\n",
       " 'roof_area': 'float64',\n",
       " 'surface_area': 'float64',\n",
       " 'wall_area': 'float64'}"
      ]
     },
     "execution_count": 15,
     "metadata": {},
     "output_type": "execute_result"
    }
   ],
   "source": [
    "d={}\n",
    "for key in df.columns:\n",
    "    d[key]=str(df[key].dtypes)\n",
    "d"
   ]
  },
  {
   "cell_type": "code",
   "execution_count": 1,
   "metadata": {},
   "outputs": [],
   "source": [
    "from energy_efficiency.constant.constant import *"
   ]
  },
  {
   "cell_type": "code",
   "execution_count": 2,
   "metadata": {},
   "outputs": [],
   "source": [
    "from energy_efficiency.util.util import read_yaml_file"
   ]
  },
  {
   "cell_type": "code",
   "execution_count": 7,
   "metadata": {},
   "outputs": [
    {
     "data": {
      "text/plain": [
       "['id',\n",
       " 'cooling_load',\n",
       " 'glazing_area',\n",
       " 'glazing_area_distribution',\n",
       " 'heating_load',\n",
       " 'orientation',\n",
       " 'overall_height',\n",
       " 'relative_compactness',\n",
       " 'roof_area',\n",
       " 'surface_area',\n",
       " 'wall_area']"
      ]
     },
     "execution_count": 7,
     "metadata": {},
     "output_type": "execute_result"
    }
   ],
   "source": [
    "list(read_yaml_file(SCHEMA_FILE_PATH).keys())"
   ]
  },
  {
   "cell_type": "code",
   "execution_count": null,
   "metadata": {},
   "outputs": [],
   "source": [
    "energy_efficiency\\artifact\\data_ingestion"
   ]
  },
  {
   "cell_type": "code",
   "execution_count": 5,
   "metadata": {},
   "outputs": [],
   "source": [
    "import datetime\n"
   ]
  },
  {
   "cell_type": "code",
   "execution_count": 14,
   "metadata": {},
   "outputs": [
    {
     "name": "stdout",
     "output_type": "stream",
     "text": [
      "Date and time is: 2022-07-24 15:45:09.248922\n",
      "Timestamp is: 1658657709.248922\n"
     ]
    }
   ],
   "source": [
    "dt = str(datetime.datetime.now())\n",
    "\n",
    "# getting the timestamp\n",
    "ts = datetime.datetime.timestamp(dt)\n",
    "\n",
    "print(\"Date and time is:\", dt)\n",
    "print(\"Timestamp is:\", ts)"
   ]
  },
  {
   "cell_type": "code",
   "execution_count": 21,
   "metadata": {},
   "outputs": [],
   "source": [
    "os.makedirs(DUMP_DATA_LINE+\"\\\\\"+datetime.datetime.now().strftime('%Y-%m-%d-%H-%M-%S'))"
   ]
  },
  {
   "cell_type": "code",
   "execution_count": 29,
   "metadata": {},
   "outputs": [
    {
     "ename": "TypeError",
     "evalue": "expected str, bytes or os.PathLike object, not NoneType",
     "output_type": "error",
     "traceback": [
      "\u001b[1;31m---------------------------------------------------------------------------\u001b[0m",
      "\u001b[1;31mTypeError\u001b[0m                                 Traceback (most recent call last)",
      "\u001b[1;32me:\\Ineuron\\Project\\energy_efficiency\\energy-ML_project\\pop.ipynb Cell 15\u001b[0m in \u001b[0;36m<cell line: 3>\u001b[1;34m()\u001b[0m\n\u001b[0;32m      <a href='vscode-notebook-cell:/e%3A/Ineuron/Project/energy_efficiency/energy-ML_project/pop.ipynb#ch0000014?line=0'>1</a>\u001b[0m \u001b[39mimport\u001b[39;00m \u001b[39mos\u001b[39;00m\n\u001b[0;32m      <a href='vscode-notebook-cell:/e%3A/Ineuron/Project/energy_efficiency/energy-ML_project/pop.ipynb#ch0000014?line=1'>2</a>\u001b[0m p\u001b[39m=\u001b[39mos\u001b[39m.\u001b[39mmakedirs(os\u001b[39m.\u001b[39mpath\u001b[39m.\u001b[39mjoin(DUMP_DATA_LINE,datetime\u001b[39m.\u001b[39mdatetime\u001b[39m.\u001b[39mnow()\u001b[39m.\u001b[39mstrftime(\u001b[39m'\u001b[39m\u001b[39m%\u001b[39m\u001b[39mY-\u001b[39m\u001b[39m%\u001b[39m\u001b[39mm-\u001b[39m\u001b[39m%d\u001b[39;00m\u001b[39m-\u001b[39m\u001b[39m%\u001b[39m\u001b[39mH-\u001b[39m\u001b[39m%\u001b[39m\u001b[39mM-\u001b[39m\u001b[39m%\u001b[39m\u001b[39mS\u001b[39m\u001b[39m'\u001b[39m)),exist_ok\u001b[39m=\u001b[39m\u001b[39mTrue\u001b[39;00m)\n\u001b[1;32m----> <a href='vscode-notebook-cell:/e%3A/Ineuron/Project/energy_efficiency/energy-ML_project/pop.ipynb#ch0000014?line=2'>3</a>\u001b[0m os\u001b[39m.\u001b[39;49mpath\u001b[39m.\u001b[39;49mjoin(p,\u001b[39m\"\u001b[39;49m\u001b[39mdumped_data.csv\u001b[39;49m\u001b[39m\"\u001b[39;49m)\n",
      "File \u001b[1;32me:\\Ineuron\\Project\\energy_efficiency\\energy-ML_project\\venv\\lib\\ntpath.py:78\u001b[0m, in \u001b[0;36mjoin\u001b[1;34m(path, *paths)\u001b[0m\n\u001b[0;32m     77\u001b[0m \u001b[39mdef\u001b[39;00m \u001b[39mjoin\u001b[39m(path, \u001b[39m*\u001b[39mpaths):\n\u001b[1;32m---> 78\u001b[0m     path \u001b[39m=\u001b[39m os\u001b[39m.\u001b[39;49mfspath(path)\n\u001b[0;32m     79\u001b[0m     \u001b[39mif\u001b[39;00m \u001b[39misinstance\u001b[39m(path, \u001b[39mbytes\u001b[39m):\n\u001b[0;32m     80\u001b[0m         sep \u001b[39m=\u001b[39m \u001b[39mb\u001b[39m\u001b[39m'\u001b[39m\u001b[39m\\\\\u001b[39;00m\u001b[39m'\u001b[39m\n",
      "\u001b[1;31mTypeError\u001b[0m: expected str, bytes or os.PathLike object, not NoneType"
     ]
    }
   ],
   "source": [
    "import os\n",
    "p=os.makedirs(os.path.join(DUMP_DATA_LINE,datetime.datetime.now().strftime('%Y-%m-%d-%H-%M-%S')),exist_ok=True)\n",
    "os.path.join(p,\"dumped_data.csv\")"
   ]
  },
  {
   "cell_type": "code",
   "execution_count": 28,
   "metadata": {},
   "outputs": [
    {
     "data": {
      "text/plain": [
       "'E:\\\\Ineuron\\\\Project\\\\energy_efficiency\\\\energy-ML_project\\\\energy_efficiency\\x07rtifact\\\\data_ingestion\\x822-07-24-15-58-59\\\\data.csv'"
      ]
     },
     "execution_count": 28,
     "metadata": {},
     "output_type": "execute_result"
    }
   ],
   "source": [
    "os.path.join(\"E:\\Ineuron\\Project\\energy_efficiency\\energy-ML_project\\energy_efficiency\\artifact\\data_ingestion\\2022-07-24-15-58-59\",\"data.csv\")"
   ]
  },
  {
   "cell_type": "code",
   "execution_count": 31,
   "metadata": {},
   "outputs": [],
   "source": [
    "path_dir=os.makedirs(os.path.join(DUMP_DATA_LINE,datetime.datetime.now().strftime('%Y-%m-%d-%H-%M-%S')),exist_ok=True)"
   ]
  },
  {
   "cell_type": "code",
   "execution_count": 33,
   "metadata": {},
   "outputs": [
    {
     "data": {
      "text/plain": [
       "'E:\\\\Ineuron\\\\Project\\\\energy_efficiency\\\\energy-ML_project\\\\energy_efficiency\\\\artifact\\\\data_ingestion\\\\2022-07-24-16-06-18\\\\dumped_data.csv'"
      ]
     },
     "execution_count": 33,
     "metadata": {},
     "output_type": "execute_result"
    }
   ],
   "source": [
    "os.path.join(DUMP_DATA_LINE,datetime.datetime.now().strftime('%Y-%m-%d-%H-%M-%S'),\"dumped_data.csv\")"
   ]
  },
  {
   "cell_type": "code",
   "execution_count": 1,
   "metadata": {},
   "outputs": [],
   "source": [
    "import pandas as pd\n",
    "df=pd.read_csv(r\"E:\\Ineuron\\Project\\energy_efficiency\\energy-ML_project\\energy_efficiency\\artifact\\data_transformation\\transformed_data\\2022-07-24-19-19-51\\transformed.csv\")"
   ]
  },
  {
   "cell_type": "code",
   "execution_count": 2,
   "metadata": {},
   "outputs": [],
   "source": [
    "import pickle\n",
    "with open(r\"E:\\Ineuron\\Project\\energy_efficiency\\energy-ML_project\\energy_efficiency\\artifact\\data_transformation\\preprocessed\\2022-07-24-19-19-51\\preprocessed.pkl\",\"rb\") as f:\n",
    "    scaler=pickle.load(f)\n"
   ]
  },
  {
   "cell_type": "code",
   "execution_count": 13,
   "metadata": {},
   "outputs": [],
   "source": [
    "df1=pd.concat([pd.DataFrame(scaler.transform(df[[\"glazing_area\",\"glazing_area_distribution\",\"orientation\",'overall_height',\"relative_compactness\",\"roof_area\",\"surface_area\",\"wall_area\"]]),columns=[\"glazing_area\",\"glazing_area_distribution\",\"orientation\",'overall_height',\"relative_compactness\",\"roof_area\",\"surface_area\",\"wall_area\"]),df[[\"cooling_load\",\"heating_load\"]]],axis=1)"
   ]
  },
  {
   "cell_type": "code",
   "execution_count": 14,
   "metadata": {},
   "outputs": [
    {
     "data": {
      "text/html": [
       "<div>\n",
       "<style scoped>\n",
       "    .dataframe tbody tr th:only-of-type {\n",
       "        vertical-align: middle;\n",
       "    }\n",
       "\n",
       "    .dataframe tbody tr th {\n",
       "        vertical-align: top;\n",
       "    }\n",
       "\n",
       "    .dataframe thead th {\n",
       "        text-align: right;\n",
       "    }\n",
       "</style>\n",
       "<table border=\"1\" class=\"dataframe\">\n",
       "  <thead>\n",
       "    <tr style=\"text-align: right;\">\n",
       "      <th></th>\n",
       "      <th>glazing_area</th>\n",
       "      <th>glazing_area_distribution</th>\n",
       "      <th>orientation</th>\n",
       "      <th>overall_height</th>\n",
       "      <th>relative_compactness</th>\n",
       "      <th>roof_area</th>\n",
       "      <th>surface_area</th>\n",
       "      <th>wall_area</th>\n",
       "      <th>cooling_load</th>\n",
       "      <th>heating_load</th>\n",
       "    </tr>\n",
       "  </thead>\n",
       "  <tbody>\n",
       "    <tr>\n",
       "      <th>0</th>\n",
       "      <td>-14.983587</td>\n",
       "      <td>-2.985307</td>\n",
       "      <td>-1.930495</td>\n",
       "      <td>-2.428571</td>\n",
       "      <td>-7.601872</td>\n",
       "      <td>-3.939222</td>\n",
       "      <td>-7.631874</td>\n",
       "      <td>-7.253812</td>\n",
       "      <td>29.40</td>\n",
       "      <td>23.93</td>\n",
       "    </tr>\n",
       "    <tr>\n",
       "      <th>1</th>\n",
       "      <td>-9.341714</td>\n",
       "      <td>-2.152787</td>\n",
       "      <td>-2.730495</td>\n",
       "      <td>-2.428571</td>\n",
       "      <td>-4.917142</td>\n",
       "      <td>-3.927197</td>\n",
       "      <td>-7.635035</td>\n",
       "      <td>-7.292480</td>\n",
       "      <td>33.87</td>\n",
       "      <td>36.97</td>\n",
       "    </tr>\n",
       "    <tr>\n",
       "      <th>2</th>\n",
       "      <td>7.583906</td>\n",
       "      <td>-1.736526</td>\n",
       "      <td>-4.330495</td>\n",
       "      <td>-3.571429</td>\n",
       "      <td>-16.550974</td>\n",
       "      <td>-3.891120</td>\n",
       "      <td>-7.619227</td>\n",
       "      <td>-7.305369</td>\n",
       "      <td>17.04</td>\n",
       "      <td>15.16</td>\n",
       "    </tr>\n",
       "    <tr>\n",
       "      <th>3</th>\n",
       "      <td>-9.341714</td>\n",
       "      <td>-2.569047</td>\n",
       "      <td>-3.530495</td>\n",
       "      <td>-2.428571</td>\n",
       "      <td>4.926870</td>\n",
       "      <td>-3.939222</td>\n",
       "      <td>-7.644520</td>\n",
       "      <td>-7.305369</td>\n",
       "      <td>29.87</td>\n",
       "      <td>29.87</td>\n",
       "    </tr>\n",
       "    <tr>\n",
       "      <th>4</th>\n",
       "      <td>-9.341714</td>\n",
       "      <td>-2.152787</td>\n",
       "      <td>-2.730495</td>\n",
       "      <td>-2.428571</td>\n",
       "      <td>-2.232411</td>\n",
       "      <td>-3.927197</td>\n",
       "      <td>-7.638197</td>\n",
       "      <td>-7.305369</td>\n",
       "      <td>24.80</td>\n",
       "      <td>23.67</td>\n",
       "    </tr>\n",
       "    <tr>\n",
       "      <th>...</th>\n",
       "      <td>...</td>\n",
       "      <td>...</td>\n",
       "      <td>...</td>\n",
       "      <td>...</td>\n",
       "      <td>...</td>\n",
       "      <td>...</td>\n",
       "      <td>...</td>\n",
       "      <td>...</td>\n",
       "      <td>...</td>\n",
       "      <td>...</td>\n",
       "    </tr>\n",
       "    <tr>\n",
       "      <th>763</th>\n",
       "      <td>-9.341714</td>\n",
       "      <td>-0.904006</td>\n",
       "      <td>-1.930495</td>\n",
       "      <td>-3.571429</td>\n",
       "      <td>-13.866244</td>\n",
       "      <td>-3.891120</td>\n",
       "      <td>-7.622389</td>\n",
       "      <td>-7.318259</td>\n",
       "      <td>14.39</td>\n",
       "      <td>11.16</td>\n",
       "    </tr>\n",
       "    <tr>\n",
       "      <th>764</th>\n",
       "      <td>7.583906</td>\n",
       "      <td>-1.736526</td>\n",
       "      <td>-3.530495</td>\n",
       "      <td>-2.428571</td>\n",
       "      <td>-4.917142</td>\n",
       "      <td>-3.927197</td>\n",
       "      <td>-7.635035</td>\n",
       "      <td>-7.292480</td>\n",
       "      <td>44.18</td>\n",
       "      <td>41.30</td>\n",
       "    </tr>\n",
       "    <tr>\n",
       "      <th>765</th>\n",
       "      <td>-0.878904</td>\n",
       "      <td>-2.569047</td>\n",
       "      <td>-3.530495</td>\n",
       "      <td>-2.428571</td>\n",
       "      <td>-7.601872</td>\n",
       "      <td>-3.939222</td>\n",
       "      <td>-7.631874</td>\n",
       "      <td>-7.253812</td>\n",
       "      <td>37.58</td>\n",
       "      <td>36.13</td>\n",
       "    </tr>\n",
       "    <tr>\n",
       "      <th>766</th>\n",
       "      <td>-9.341714</td>\n",
       "      <td>-1.320266</td>\n",
       "      <td>-4.330495</td>\n",
       "      <td>-3.571429</td>\n",
       "      <td>-18.340795</td>\n",
       "      <td>-3.891120</td>\n",
       "      <td>-7.616065</td>\n",
       "      <td>-7.292480</td>\n",
       "      <td>19.24</td>\n",
       "      <td>15.40</td>\n",
       "    </tr>\n",
       "    <tr>\n",
       "      <th>767</th>\n",
       "      <td>-9.341714</td>\n",
       "      <td>-2.152787</td>\n",
       "      <td>-1.930495</td>\n",
       "      <td>-2.428571</td>\n",
       "      <td>4.926870</td>\n",
       "      <td>-3.939222</td>\n",
       "      <td>-7.644520</td>\n",
       "      <td>-7.305369</td>\n",
       "      <td>34.20</td>\n",
       "      <td>27.90</td>\n",
       "    </tr>\n",
       "  </tbody>\n",
       "</table>\n",
       "<p>768 rows × 10 columns</p>\n",
       "</div>"
      ],
      "text/plain": [
       "     glazing_area  glazing_area_distribution  orientation  overall_height  \\\n",
       "0      -14.983587                  -2.985307    -1.930495       -2.428571   \n",
       "1       -9.341714                  -2.152787    -2.730495       -2.428571   \n",
       "2        7.583906                  -1.736526    -4.330495       -3.571429   \n",
       "3       -9.341714                  -2.569047    -3.530495       -2.428571   \n",
       "4       -9.341714                  -2.152787    -2.730495       -2.428571   \n",
       "..            ...                        ...          ...             ...   \n",
       "763     -9.341714                  -0.904006    -1.930495       -3.571429   \n",
       "764      7.583906                  -1.736526    -3.530495       -2.428571   \n",
       "765     -0.878904                  -2.569047    -3.530495       -2.428571   \n",
       "766     -9.341714                  -1.320266    -4.330495       -3.571429   \n",
       "767     -9.341714                  -2.152787    -1.930495       -2.428571   \n",
       "\n",
       "     relative_compactness  roof_area  surface_area  wall_area  cooling_load  \\\n",
       "0               -7.601872  -3.939222     -7.631874  -7.253812         29.40   \n",
       "1               -4.917142  -3.927197     -7.635035  -7.292480         33.87   \n",
       "2              -16.550974  -3.891120     -7.619227  -7.305369         17.04   \n",
       "3                4.926870  -3.939222     -7.644520  -7.305369         29.87   \n",
       "4               -2.232411  -3.927197     -7.638197  -7.305369         24.80   \n",
       "..                    ...        ...           ...        ...           ...   \n",
       "763            -13.866244  -3.891120     -7.622389  -7.318259         14.39   \n",
       "764             -4.917142  -3.927197     -7.635035  -7.292480         44.18   \n",
       "765             -7.601872  -3.939222     -7.631874  -7.253812         37.58   \n",
       "766            -18.340795  -3.891120     -7.616065  -7.292480         19.24   \n",
       "767              4.926870  -3.939222     -7.644520  -7.305369         34.20   \n",
       "\n",
       "     heating_load  \n",
       "0           23.93  \n",
       "1           36.97  \n",
       "2           15.16  \n",
       "3           29.87  \n",
       "4           23.67  \n",
       "..            ...  \n",
       "763         11.16  \n",
       "764         41.30  \n",
       "765         36.13  \n",
       "766         15.40  \n",
       "767         27.90  \n",
       "\n",
       "[768 rows x 10 columns]"
      ]
     },
     "execution_count": 14,
     "metadata": {},
     "output_type": "execute_result"
    }
   ],
   "source": [
    "df1"
   ]
  },
  {
   "cell_type": "code",
   "execution_count": 15,
   "metadata": {},
   "outputs": [],
   "source": [
    "x=df1.drop([\"cooling_load\",\"heating_load\"],axis=1)\n",
    "y=df1[[\"cooling_load\"]]"
   ]
  },
  {
   "cell_type": "code",
   "execution_count": 17,
   "metadata": {},
   "outputs": [],
   "source": [
    "from cgi import test\n",
    "from sklearn.linear_model import LinearRegression\n",
    "from sklearn.model_selection import train_test_split\n",
    "lr=LinearRegression()\n",
    "x_train,x_test,y_train,y_test=train_test_split(x,y,test_size=0.3,random_state=0)"
   ]
  },
  {
   "cell_type": "code",
   "execution_count": 18,
   "metadata": {},
   "outputs": [
    {
     "data": {
      "text/html": [
       "<style>#sk-container-id-1 {color: black;background-color: white;}#sk-container-id-1 pre{padding: 0;}#sk-container-id-1 div.sk-toggleable {background-color: white;}#sk-container-id-1 label.sk-toggleable__label {cursor: pointer;display: block;width: 100%;margin-bottom: 0;padding: 0.3em;box-sizing: border-box;text-align: center;}#sk-container-id-1 label.sk-toggleable__label-arrow:before {content: \"▸\";float: left;margin-right: 0.25em;color: #696969;}#sk-container-id-1 label.sk-toggleable__label-arrow:hover:before {color: black;}#sk-container-id-1 div.sk-estimator:hover label.sk-toggleable__label-arrow:before {color: black;}#sk-container-id-1 div.sk-toggleable__content {max-height: 0;max-width: 0;overflow: hidden;text-align: left;background-color: #f0f8ff;}#sk-container-id-1 div.sk-toggleable__content pre {margin: 0.2em;color: black;border-radius: 0.25em;background-color: #f0f8ff;}#sk-container-id-1 input.sk-toggleable__control:checked~div.sk-toggleable__content {max-height: 200px;max-width: 100%;overflow: auto;}#sk-container-id-1 input.sk-toggleable__control:checked~label.sk-toggleable__label-arrow:before {content: \"▾\";}#sk-container-id-1 div.sk-estimator input.sk-toggleable__control:checked~label.sk-toggleable__label {background-color: #d4ebff;}#sk-container-id-1 div.sk-label input.sk-toggleable__control:checked~label.sk-toggleable__label {background-color: #d4ebff;}#sk-container-id-1 input.sk-hidden--visually {border: 0;clip: rect(1px 1px 1px 1px);clip: rect(1px, 1px, 1px, 1px);height: 1px;margin: -1px;overflow: hidden;padding: 0;position: absolute;width: 1px;}#sk-container-id-1 div.sk-estimator {font-family: monospace;background-color: #f0f8ff;border: 1px dotted black;border-radius: 0.25em;box-sizing: border-box;margin-bottom: 0.5em;}#sk-container-id-1 div.sk-estimator:hover {background-color: #d4ebff;}#sk-container-id-1 div.sk-parallel-item::after {content: \"\";width: 100%;border-bottom: 1px solid gray;flex-grow: 1;}#sk-container-id-1 div.sk-label:hover label.sk-toggleable__label {background-color: #d4ebff;}#sk-container-id-1 div.sk-serial::before {content: \"\";position: absolute;border-left: 1px solid gray;box-sizing: border-box;top: 0;bottom: 0;left: 50%;z-index: 0;}#sk-container-id-1 div.sk-serial {display: flex;flex-direction: column;align-items: center;background-color: white;padding-right: 0.2em;padding-left: 0.2em;position: relative;}#sk-container-id-1 div.sk-item {position: relative;z-index: 1;}#sk-container-id-1 div.sk-parallel {display: flex;align-items: stretch;justify-content: center;background-color: white;position: relative;}#sk-container-id-1 div.sk-item::before, #sk-container-id-1 div.sk-parallel-item::before {content: \"\";position: absolute;border-left: 1px solid gray;box-sizing: border-box;top: 0;bottom: 0;left: 50%;z-index: -1;}#sk-container-id-1 div.sk-parallel-item {display: flex;flex-direction: column;z-index: 1;position: relative;background-color: white;}#sk-container-id-1 div.sk-parallel-item:first-child::after {align-self: flex-end;width: 50%;}#sk-container-id-1 div.sk-parallel-item:last-child::after {align-self: flex-start;width: 50%;}#sk-container-id-1 div.sk-parallel-item:only-child::after {width: 0;}#sk-container-id-1 div.sk-dashed-wrapped {border: 1px dashed gray;margin: 0 0.4em 0.5em 0.4em;box-sizing: border-box;padding-bottom: 0.4em;background-color: white;}#sk-container-id-1 div.sk-label label {font-family: monospace;font-weight: bold;display: inline-block;line-height: 1.2em;}#sk-container-id-1 div.sk-label-container {text-align: center;}#sk-container-id-1 div.sk-container {/* jupyter's `normalize.less` sets `[hidden] { display: none; }` but bootstrap.min.css set `[hidden] { display: none !important; }` so we also need the `!important` here to be able to override the default hidden behavior on the sphinx rendered scikit-learn.org. See: https://github.com/scikit-learn/scikit-learn/issues/21755 */display: inline-block !important;position: relative;}#sk-container-id-1 div.sk-text-repr-fallback {display: none;}</style><div id=\"sk-container-id-1\" class=\"sk-top-container\"><div class=\"sk-text-repr-fallback\"><pre>LinearRegression()</pre><b>In a Jupyter environment, please rerun this cell to show the HTML representation or trust the notebook. <br />On GitHub, the HTML representation is unable to render, please try loading this page with nbviewer.org.</b></div><div class=\"sk-container\" hidden><div class=\"sk-item\"><div class=\"sk-estimator sk-toggleable\"><input class=\"sk-toggleable__control sk-hidden--visually\" id=\"sk-estimator-id-1\" type=\"checkbox\" checked><label for=\"sk-estimator-id-1\" class=\"sk-toggleable__label sk-toggleable__label-arrow\">LinearRegression</label><div class=\"sk-toggleable__content\"><pre>LinearRegression()</pre></div></div></div></div></div>"
      ],
      "text/plain": [
       "LinearRegression()"
      ]
     },
     "execution_count": 18,
     "metadata": {},
     "output_type": "execute_result"
    }
   ],
   "source": [
    "lr.fit(x_train,y_train)"
   ]
  },
  {
   "cell_type": "code",
   "execution_count": 19,
   "metadata": {},
   "outputs": [],
   "source": [
    "pred=lr.predict(x_test)"
   ]
  },
  {
   "cell_type": "code",
   "execution_count": 21,
   "metadata": {},
   "outputs": [],
   "source": [
    "from sklearn.metrics import r2_score"
   ]
  },
  {
   "cell_type": "code",
   "execution_count": 22,
   "metadata": {},
   "outputs": [
    {
     "data": {
      "text/plain": [
       "0.8888916333916088"
      ]
     },
     "execution_count": 22,
     "metadata": {},
     "output_type": "execute_result"
    }
   ],
   "source": [
    "r2_score(y_true=y_test,y_pred=pred)"
   ]
  },
  {
   "cell_type": "code",
   "execution_count": 23,
   "metadata": {},
   "outputs": [],
   "source": [
    "import importlib"
   ]
  },
  {
   "cell_type": "code",
   "execution_count": 33,
   "metadata": {},
   "outputs": [],
   "source": [
    "module=importlib.import_module(\"sklearn.model_selection\",\"LinearRegression()\")"
   ]
  },
  {
   "cell_type": "code",
   "execution_count": 34,
   "metadata": {},
   "outputs": [],
   "source": [
    "setattr(module,\"fit_intercept\",\"True\")"
   ]
  },
  {
   "cell_type": "code",
   "execution_count": 38,
   "metadata": {},
   "outputs": [],
   "source": [
    "from sklearn.linear_model import LinearRegression\n",
    "from sklearn.model_selection import GridSearchCV"
   ]
  },
  {
   "cell_type": "code",
   "execution_count": 39,
   "metadata": {},
   "outputs": [
    {
     "data": {
      "text/html": [
       "<style>#sk-container-id-2 {color: black;background-color: white;}#sk-container-id-2 pre{padding: 0;}#sk-container-id-2 div.sk-toggleable {background-color: white;}#sk-container-id-2 label.sk-toggleable__label {cursor: pointer;display: block;width: 100%;margin-bottom: 0;padding: 0.3em;box-sizing: border-box;text-align: center;}#sk-container-id-2 label.sk-toggleable__label-arrow:before {content: \"▸\";float: left;margin-right: 0.25em;color: #696969;}#sk-container-id-2 label.sk-toggleable__label-arrow:hover:before {color: black;}#sk-container-id-2 div.sk-estimator:hover label.sk-toggleable__label-arrow:before {color: black;}#sk-container-id-2 div.sk-toggleable__content {max-height: 0;max-width: 0;overflow: hidden;text-align: left;background-color: #f0f8ff;}#sk-container-id-2 div.sk-toggleable__content pre {margin: 0.2em;color: black;border-radius: 0.25em;background-color: #f0f8ff;}#sk-container-id-2 input.sk-toggleable__control:checked~div.sk-toggleable__content {max-height: 200px;max-width: 100%;overflow: auto;}#sk-container-id-2 input.sk-toggleable__control:checked~label.sk-toggleable__label-arrow:before {content: \"▾\";}#sk-container-id-2 div.sk-estimator input.sk-toggleable__control:checked~label.sk-toggleable__label {background-color: #d4ebff;}#sk-container-id-2 div.sk-label input.sk-toggleable__control:checked~label.sk-toggleable__label {background-color: #d4ebff;}#sk-container-id-2 input.sk-hidden--visually {border: 0;clip: rect(1px 1px 1px 1px);clip: rect(1px, 1px, 1px, 1px);height: 1px;margin: -1px;overflow: hidden;padding: 0;position: absolute;width: 1px;}#sk-container-id-2 div.sk-estimator {font-family: monospace;background-color: #f0f8ff;border: 1px dotted black;border-radius: 0.25em;box-sizing: border-box;margin-bottom: 0.5em;}#sk-container-id-2 div.sk-estimator:hover {background-color: #d4ebff;}#sk-container-id-2 div.sk-parallel-item::after {content: \"\";width: 100%;border-bottom: 1px solid gray;flex-grow: 1;}#sk-container-id-2 div.sk-label:hover label.sk-toggleable__label {background-color: #d4ebff;}#sk-container-id-2 div.sk-serial::before {content: \"\";position: absolute;border-left: 1px solid gray;box-sizing: border-box;top: 0;bottom: 0;left: 50%;z-index: 0;}#sk-container-id-2 div.sk-serial {display: flex;flex-direction: column;align-items: center;background-color: white;padding-right: 0.2em;padding-left: 0.2em;position: relative;}#sk-container-id-2 div.sk-item {position: relative;z-index: 1;}#sk-container-id-2 div.sk-parallel {display: flex;align-items: stretch;justify-content: center;background-color: white;position: relative;}#sk-container-id-2 div.sk-item::before, #sk-container-id-2 div.sk-parallel-item::before {content: \"\";position: absolute;border-left: 1px solid gray;box-sizing: border-box;top: 0;bottom: 0;left: 50%;z-index: -1;}#sk-container-id-2 div.sk-parallel-item {display: flex;flex-direction: column;z-index: 1;position: relative;background-color: white;}#sk-container-id-2 div.sk-parallel-item:first-child::after {align-self: flex-end;width: 50%;}#sk-container-id-2 div.sk-parallel-item:last-child::after {align-self: flex-start;width: 50%;}#sk-container-id-2 div.sk-parallel-item:only-child::after {width: 0;}#sk-container-id-2 div.sk-dashed-wrapped {border: 1px dashed gray;margin: 0 0.4em 0.5em 0.4em;box-sizing: border-box;padding-bottom: 0.4em;background-color: white;}#sk-container-id-2 div.sk-label label {font-family: monospace;font-weight: bold;display: inline-block;line-height: 1.2em;}#sk-container-id-2 div.sk-label-container {text-align: center;}#sk-container-id-2 div.sk-container {/* jupyter's `normalize.less` sets `[hidden] { display: none; }` but bootstrap.min.css set `[hidden] { display: none !important; }` so we also need the `!important` here to be able to override the default hidden behavior on the sphinx rendered scikit-learn.org. See: https://github.com/scikit-learn/scikit-learn/issues/21755 */display: inline-block !important;position: relative;}#sk-container-id-2 div.sk-text-repr-fallback {display: none;}</style><div id=\"sk-container-id-2\" class=\"sk-top-container\"><div class=\"sk-text-repr-fallback\"><pre>GridSearchCV(estimator=LinearRegression(),\n",
       "             param_grid={&#x27;fit_intercept&#x27;: [True, False]})</pre><b>In a Jupyter environment, please rerun this cell to show the HTML representation or trust the notebook. <br />On GitHub, the HTML representation is unable to render, please try loading this page with nbviewer.org.</b></div><div class=\"sk-container\" hidden><div class=\"sk-item sk-dashed-wrapped\"><div class=\"sk-label-container\"><div class=\"sk-label sk-toggleable\"><input class=\"sk-toggleable__control sk-hidden--visually\" id=\"sk-estimator-id-2\" type=\"checkbox\" ><label for=\"sk-estimator-id-2\" class=\"sk-toggleable__label sk-toggleable__label-arrow\">GridSearchCV</label><div class=\"sk-toggleable__content\"><pre>GridSearchCV(estimator=LinearRegression(),\n",
       "             param_grid={&#x27;fit_intercept&#x27;: [True, False]})</pre></div></div></div><div class=\"sk-parallel\"><div class=\"sk-parallel-item\"><div class=\"sk-item\"><div class=\"sk-label-container\"><div class=\"sk-label sk-toggleable\"><input class=\"sk-toggleable__control sk-hidden--visually\" id=\"sk-estimator-id-3\" type=\"checkbox\" ><label for=\"sk-estimator-id-3\" class=\"sk-toggleable__label sk-toggleable__label-arrow\">estimator: LinearRegression</label><div class=\"sk-toggleable__content\"><pre>LinearRegression()</pre></div></div></div><div class=\"sk-serial\"><div class=\"sk-item\"><div class=\"sk-estimator sk-toggleable\"><input class=\"sk-toggleable__control sk-hidden--visually\" id=\"sk-estimator-id-4\" type=\"checkbox\" ><label for=\"sk-estimator-id-4\" class=\"sk-toggleable__label sk-toggleable__label-arrow\">LinearRegression</label><div class=\"sk-toggleable__content\"><pre>LinearRegression()</pre></div></div></div></div></div></div></div></div></div></div>"
      ],
      "text/plain": [
       "GridSearchCV(estimator=LinearRegression(),\n",
       "             param_grid={'fit_intercept': [True, False]})"
      ]
     },
     "execution_count": 39,
     "metadata": {},
     "output_type": "execute_result"
    }
   ],
   "source": [
    "lr=LinearRegression()\n",
    "params={\"fit_intercept\":[True,False]}\n",
    "g=GridSearchCV(estimator=lr,param_grid=params)\n",
    "g.fit(x_train,y_train)"
   ]
  },
  {
   "cell_type": "code",
   "execution_count": 41,
   "metadata": {},
   "outputs": [],
   "source": [
    "ans=g.best_estimator_"
   ]
  },
  {
   "cell_type": "code",
   "execution_count": 42,
   "metadata": {},
   "outputs": [
    {
     "data": {
      "text/plain": [
       "False"
      ]
     },
     "execution_count": 42,
     "metadata": {},
     "output_type": "execute_result"
    }
   ],
   "source": [
    "ans.fit_intercept"
   ]
  },
  {
   "cell_type": "code",
   "execution_count": 43,
   "metadata": {},
   "outputs": [],
   "source": [
    "l=[1]"
   ]
  },
  {
   "cell_type": "code",
   "execution_count": 44,
   "metadata": {},
   "outputs": [
    {
     "data": {
      "text/plain": [
       "0"
      ]
     },
     "execution_count": 44,
     "metadata": {},
     "output_type": "execute_result"
    }
   ],
   "source": [
    "l.index(1)"
   ]
  },
  {
   "cell_type": "code",
   "execution_count": null,
   "metadata": {},
   "outputs": [],
   "source": []
  }
 ],
 "metadata": {
  "kernelspec": {
   "display_name": "Python 3.9.0 (conda)",
   "language": "python",
   "name": "python3"
  },
  "language_info": {
   "codemirror_mode": {
    "name": "ipython",
    "version": 3
   },
   "file_extension": ".py",
   "mimetype": "text/x-python",
   "name": "python",
   "nbconvert_exporter": "python",
   "pygments_lexer": "ipython3",
   "version": "3.9.0"
  },
  "orig_nbformat": 4,
  "vscode": {
   "interpreter": {
    "hash": "30406590327b290fc87f3fe9e0d9f4bb331fe4636690d0b754abb8e2aa011a33"
   }
  }
 },
 "nbformat": 4,
 "nbformat_minor": 2
}
